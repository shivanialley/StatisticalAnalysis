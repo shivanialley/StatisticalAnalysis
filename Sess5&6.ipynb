{
 "cells": [
  {
   "cell_type": "code",
   "execution_count": 1,
   "id": "5f586cfc-cf31-422f-ab04-bf6fdc65624c",
   "metadata": {},
   "outputs": [
    {
     "data": {
      "text/html": [
       "<div>\n",
       "<style scoped>\n",
       "    .dataframe tbody tr th:only-of-type {\n",
       "        vertical-align: middle;\n",
       "    }\n",
       "\n",
       "    .dataframe tbody tr th {\n",
       "        vertical-align: top;\n",
       "    }\n",
       "\n",
       "    .dataframe thead th {\n",
       "        text-align: right;\n",
       "    }\n",
       "</style>\n",
       "<table border=\"1\" class=\"dataframe\">\n",
       "  <thead>\n",
       "    <tr style=\"text-align: right;\">\n",
       "      <th></th>\n",
       "      <th>X</th>\n",
       "      <th>Y</th>\n",
       "    </tr>\n",
       "  </thead>\n",
       "  <tbody>\n",
       "    <tr>\n",
       "      <th>0</th>\n",
       "      <td>1.764052</td>\n",
       "      <td>0.400157</td>\n",
       "    </tr>\n",
       "    <tr>\n",
       "      <th>1</th>\n",
       "      <td>0.978738</td>\n",
       "      <td>2.240893</td>\n",
       "    </tr>\n",
       "    <tr>\n",
       "      <th>2</th>\n",
       "      <td>1.867558</td>\n",
       "      <td>-0.977278</td>\n",
       "    </tr>\n",
       "    <tr>\n",
       "      <th>3</th>\n",
       "      <td>0.950088</td>\n",
       "      <td>-0.151357</td>\n",
       "    </tr>\n",
       "    <tr>\n",
       "      <th>4</th>\n",
       "      <td>-0.103219</td>\n",
       "      <td>0.410599</td>\n",
       "    </tr>\n",
       "  </tbody>\n",
       "</table>\n",
       "</div>"
      ],
      "text/plain": [
       "          X         Y\n",
       "0  1.764052  0.400157\n",
       "1  0.978738  2.240893\n",
       "2  1.867558 -0.977278\n",
       "3  0.950088 -0.151357\n",
       "4 -0.103219  0.410599"
      ]
     },
     "execution_count": 1,
     "metadata": {},
     "output_type": "execute_result"
    }
   ],
   "source": [
    "import numpy as np\n",
    "import pandas as pd\n",
    "#Generate sample data\n",
    "np.random.seed(0)#Configuration for random number\n",
    "data=pd.DataFrame(np.random.randn(100,2), columns=['X','Y'])\n",
    "#Create a two features data, here naming X and Y of size 100 samples\n",
    "data.head(5)"
   ]
  },
  {
   "cell_type": "code",
   "execution_count": 2,
   "id": "f199363d-2274-4944-bbfa-c299ea1da15b",
   "metadata": {},
   "outputs": [
    {
     "data": {
      "text/plain": [
       "array([[ 1.05494742, -0.02517201],\n",
       "       [-0.02517201,  1.04230397]])"
      ]
     },
     "execution_count": 2,
     "metadata": {},
     "output_type": "execute_result"
    }
   ],
   "source": [
    "#Calculate covariance matrix\n",
    "cov_matrix=np.cov(data['X'],data['Y'])\n",
    "cov_matrix"
   ]
  },
  {
   "cell_type": "code",
   "execution_count": 10,
   "id": "fd3a7ad2-2bb0-4f83-8a67-c74a546419c9",
   "metadata": {},
   "outputs": [
    {
     "data": {
      "text/plain": [
       "-0.02517201366023152"
      ]
     },
     "execution_count": 10,
     "metadata": {},
     "output_type": "execute_result"
    }
   ],
   "source": [
    "#Extract covariance\n",
    "covariance = cov_matrix[0, 1]#b and c element represent covariance\n",
    "covariance"
   ]
  },
  {
   "cell_type": "code",
   "execution_count": 4,
   "id": "37163c26-46c5-4fdf-bd4f-26c1a71950cf",
   "metadata": {},
   "outputs": [
    {
     "data": {
      "text/plain": [
       "array([[ 1.       , -0.0240052],\n",
       "       [-0.0240052,  1.       ]])"
      ]
     },
     "execution_count": 4,
     "metadata": {},
     "output_type": "execute_result"
    }
   ],
   "source": [
    "#Calculate correlation matix\n",
    "cor_matrix = np.corrcoef(data['X'], data['Y'])\n",
    "cor_matrix"
   ]
  },
  {
   "cell_type": "code",
   "execution_count": 5,
   "id": "4a9d6574-7f7a-4e0a-bfc9-b7d26c50868a",
   "metadata": {},
   "outputs": [
    {
     "data": {
      "text/plain": [
       "-0.02400520149407843"
      ]
     },
     "execution_count": 5,
     "metadata": {},
     "output_type": "execute_result"
    }
   ],
   "source": [
    "correlation = cor_matrix[0,1]\n",
    "correlation"
   ]
  },
  {
   "cell_type": "code",
   "execution_count": 9,
   "id": "c04e7a3f-4b3d-44e0-9ffd-b102a726ecf1",
   "metadata": {},
   "outputs": [
    {
     "data": {
      "image/png": "[encoded data removed]",
      "text/plain": [
       "<Figure size 800x600 with 1 Axes>"
      ]
     },
     "metadata": {},
     "output_type": "display_data"
    }
   ],
   "source": [
    "#@title\n",
    "import matplotlib.pyplot as plt\n",
    "import seaborn as sns\n",
    "def create_box_plot(data2):\n",
    "    plt.figure(figsize=(8,6))\n",
    "    sns.boxplot(data=data2)\n",
    "    plt.title(\"Box Plot\")\n",
    "    plt.xlabel(\"Data\")\n",
    "    plt.ylabel(\"Values\")\n",
    "    plt.show()\n",
    "\n",
    "#Example data\n",
    "data1 = {\n",
    "    'Group A' :[-1, 12, 15, 18, 20 , 22], #add -a and see outlier\n",
    "    'Group B' :[11, 14, 17, 20, 23, 26],\n",
    "    'Group C' :[8, 10, 12, 14, 16, 18]\n",
    "}\n",
    "data2=pd.DataFrame(data1)\n",
    "create_box_plot(data2)"
   ]
  },
  {
   "cell_type": "code",
   "execution_count": null,
   "id": "cd5b9523-1836-4391-be1e-2bcfeb38502f",
   "metadata": {},
   "outputs": [],
   "source": []
  }
 ],
 "metadata": {
  "kernelspec": {
   "display_name": "Python 3 (ipykernel)",
   "language": "python",
   "name": "python3"
  },
  "language_info": {
   "codemirror_mode": {
    "name": "ipython",
    "version": 3
   },
   "file_extension": ".py",
   "mimetype": "text/x-python",
   "name": "python",
   "nbconvert_exporter": "python",
   "pygments_lexer": "ipython3",
   "version": "3.9.13"
  }
 },
 "nbformat": 4,
 "nbformat_minor": 5
}
